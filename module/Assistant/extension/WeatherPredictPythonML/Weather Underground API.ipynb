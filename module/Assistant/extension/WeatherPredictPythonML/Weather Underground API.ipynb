{
 "cells": [
  {
   "cell_type": "markdown",
   "metadata": {},
   "source": [
    "## Using Machine Learning in Python to Predicting Weather Temperatures\n",
    "### Part 1: Collecting Weather Data From WeatherUnderground"
   ]
  },
  {
   "cell_type": "markdown",
   "metadata": {},
   "source": [
    "### Introduction\n",
    "\n",
    "This is the first article of a multi-part series on using Python an d Machine Learning to build models to predict weather temperatures based off data collected from Weather Underground. The series will be comprised of three different articles describing the major aspects of a Machine Learning project. The topics to be covered are:\n",
    "\n",
    "  1.  data collection and processing\n",
    "  2.  linear regression models\n",
    "  3.  neural network models\n",
    "\n",
    "The data used in this series will be collected from Weather Underground's free tier API web service. I will be using the requests library to interact with the API to pull in weather data since 2015 for the city of Lincoln Nebraska. Once collected the data will need to be process and aggregated into a format that is suitable for data analysis then cleaned.\n",
    "\n",
    "The second article will focus on analyzing the trends in the data with the goal of selecting appropriate features for building a Linear Regression model using the statsmodels and SciKitLearn Python libraries. I will discuss the importance of understanding the assumptions necessary for using a Linear Regression model and demonstrate how to evaluate the features to build a robust model. This article will conclude with a discussion of Linear Regression model testing and validation.\n",
    "\n",
    "The final article will focus on using Neural Networks. I will compare the process of building a Neural Network model, interpreting the results and, overall accuracy between the Linear Regression model built in the prior article and the Neural Network model."
   ]
  },
  {
   "cell_type": "markdown",
   "metadata": {},
   "source": [
    "### Getting Familiar with Weather Underground\n",
    "\n",
    "Getting Familiar with Weather Underground\n",
    "Weather Underground is a company that collects and distributes data on various weather measurements around the globe. The company provides a swath of API's that are available for both commercial and non-commercial uses. In this article, I will describe how to programmatically pull daily weather data from Weather Underground using their free tier of service available for non-commercial purposes.\n",
    "If you would like to follow along with the tutorial you will want to sign up for their free developer account here. This account provides an API key to access the web service at a rate of 10 requests per minute and up to a total of 500 requests in a day.\n",
    "Weather Underground provides many different web service API's to access data from but, the one we will be concerned with is their history API. The history API provides a summary of various weather measurements for a city and state on a specific day.\n",
    "The format of the request for the history API resource is as follows:\n",
    "http://api.wunderground.com/api/API_KEY/history_YYYYMMDD/q/STATE/CITY.json\n",
    "  -  API_KEY: is the API_KEY that Weather Underground provides with your account\n",
    "  -  YYYYMMDD: is a string representing the target date of your request\n",
    "  -  STATE: is the two letter state abbreviation in the United States\n",
    "  -  CITY: is the name of the city associated with the state you requested"
   ]
  },
  {
   "cell_type": "markdown",
   "metadata": {},
   "source": [
    "### Making Requests to the API\n",
    "\n",
    "To make requests to the Weather Underground history API and process the returned data I will make use of a few standard libraries as well as some popular third party libraries.  Below is a table of the libraries I will be using and their description.  For installation instructions please refer to the listed documentation.\n",
    "\n",
    "| Library     | Description of Usage                               | Source           |\n",
    "|-------------------------------------------------------------------------------------|\n",
    "| [datetime](https://docs.python.org/3/library/datetime.html)    | Used to increment our requests by day              | Standard Library |\n",
    "| [time](https://docs.python.org/3/library/time.html)        | Used to delay requests to stay under 10 per minute | Standard Library |\n",
    "| [collections](https://docs.python.org/3/library/collections.html#collections.namedtuple) | Use namedtuples for structured collection of data  | Standard Library |\n",
    "| [pandas](http://pandas.pydata.org/)      | Used to process, organize and clean the data       | Third Party Library     |\n",
    "| [requests](http://docs.python-requests.org/en/master/)    | Used to make networked requests to the API         | Third Party Library   |\n",
    "| [matplotlib](https://matplotlib.org/) | Used for graphical analysis | Third Party Library |\n",
    "\n",
    "Let us get started by importing these libraries."
   ]
  },
  {
   "cell_type": "code",
   "execution_count": 1,
   "metadata": {},
   "outputs": [],
   "source": [
    "from datetime import datetime, timedelta\n",
    "import time\n",
    "from collections import namedtuple\n",
    "import pandas as pd\n",
    "import requests\n",
    "import matplotlib.pyplot as plt"
   ]
  },
  {
   "cell_type": "markdown",
   "metadata": {},
   "source": [
    "Now I will define a couple of constants representing my API_KEY and the BASE_URL of the API endpoint I will be requesting.  Note you will need to signup for an account with Weather Underground and recieve your own API_KEY.  By the time this article is published I will have deactivated this one.\n",
    "\n",
    "BASE_URL is a string with two place holders represented by curly brackets.  The first {} will be filled by the API_KEY and the second {} will be replaced by a string formatted date.  Both values will be interpolated into the BASE_URL string using the [str.format(...)](https://docs.python.org/2/library/stdtypes.html#str.format) function."
   ]
  },
  {
   "cell_type": "code",
   "execution_count": 2,
   "metadata": {
    "collapsed": true
   },
   "outputs": [],
   "source": [
    "API_KEY = '7052ad35e3c73564'\n",
    "BASE_URL = \"http://api.wunderground.com/api/{}/history_{}/q/NE/Lincoln.json\""
   ]
  },
  {
   "cell_type": "markdown",
   "metadata": {
    "collapsed": true
   },
   "source": [
    "Next I will intialize the target date to the first day of the year in 2015.  Then I will specify the features that I would like to parse from the responses returned from the API.  The features are simply the keys present in the history -> dailysummary portion of the JSON response.  Those features are used to define a namedtuple called DailySummary which I'll use to organize the individual request's data in a list of DailySummary tuples."
   ]
  },
  {
   "cell_type": "code",
   "execution_count": 2,
   "metadata": {},
   "outputs": [],
   "source": [
    "target_date = datetime(2016, 5, 16)\n",
    "features = [\"date\", \"meantempm\", \"meandewptm\", \"meanpressurem\", \"maxhumidity\", \"minhumidity\", \"maxtempm\",\n",
    "            \"mintempm\", \"maxdewptm\", \"mindewptm\", \"maxpressurem\", \"minpressurem\", \"precipm\"]\n",
    "DailySummary = namedtuple(\"DailySummary\", features)"
   ]
  },
  {
   "cell_type": "markdown",
   "metadata": {},
   "source": [
    "In this section I will be making the actual requests to the API and collecting the successful responses using the function defined below.  This function takes the parameters url, api_key, target_date and days."
   ]
  },
  {
   "cell_type": "code",
   "execution_count": 4,
   "metadata": {
    "collapsed": true
   },
   "outputs": [],
   "source": [
    "def extract_weather_data(url, api_key, target_date, days):\n",
    "    records = []\n",
    "    for _ in range(days):\n",
    "        request = BASE_URL.format(API_KEY, target_date.strftime('%Y%m%d'))\n",
    "        response = requests.get(request)\n",
    "        if response.status_code == 200:\n",
    "            data = response.json()['history']['dailysummary'][0]\n",
    "            records.append(DailySummary(\n",
    "                date=target_date,\n",
    "                meantempm=data['meantempm'],\n",
    "                meandewptm=data['meandewptm'],\n",
    "                meanpressurem=data['meanpressurem'],\n",
    "                maxhumidity=data['maxhumidity'],\n",
    "                minhumidity=data['minhumidity'],\n",
    "                maxtempm=data['maxtempm'],\n",
    "                mintempm=data['mintempm'],\n",
    "                maxdewptm=data['maxdewptm'],\n",
    "                mindewptm=data['mindewptm'],\n",
    "                maxpressurem=data['maxpressurem'],\n",
    "                minpressurem=data['minpressurem'],\n",
    "                precipm=data['precipm']))\n",
    "        time.sleep(6)\n",
    "        target_date += timedelta(days=1)\n",
    "    return records"
   ]
  },
  {
   "cell_type": "markdown",
   "metadata": {},
   "source": [
    "I start by defining a list called records which will hold the parsed data as DailySummary namedtuples. The for loop is defined so that it iterates over the loop for number of days passed to the function."
   ]
  },
  {
   "cell_type": "markdown",
   "metadata": {
    "collapsed": true
   },
   "source": [
    "Then the request is formatted using the str.format() function to interpolate the API_KEY and string formatted target_date object.  Once formatted the request variable is passed to the get() method of the requests object and the response is assigned to a variable called response."
   ]
  },
  {
   "cell_type": "markdown",
   "metadata": {},
   "source": [
    "With the response returned I want to make sure the request was successful by evaluating that the status code is equal to 200.  If it is successful then I parse the response's body into JSON using the json() method of the returned response object. Chained to the same json() method call I select the indexes of the history and daily summary structures then grab the first item in the dailysummary list and assign that to a variable named data."
   ]
  },
  {
   "cell_type": "markdown",
   "metadata": {},
   "source": [
    "Now that I have the dict-like data structure referenced by the data variable I can select the desired fields and instantiate a new instance of the DailySummary namedtuple which is appended to the records list."
   ]
  },
  {
   "cell_type": "markdown",
   "metadata": {},
   "source": [
    "Finally, each iteration of the loop concludes by calling the sleep method of the time module to pause the loop's execution for six seconds guaranteeing that no more than 10 requests are made per minute. Then the target_date is incremented by 1 day using the timedelta object of the datetime module so the next iteration of the loop retrieves the daily summary for the following day."
   ]
  },
  {
   "cell_type": "markdown",
   "metadata": {},
   "source": [
    "### The First Batch of Requests"
   ]
  },
  {
   "cell_type": "markdown",
   "metadata": {},
   "source": [
    "Without further delay I will kick off the first set of requests for the maximum allotted daily request under the free developer account of 500.  Then I suggest you grab a refill of your coffee (or other preferred beverage) and get caught up on your favorite TV show because the function will take at least an hour depending on network latency, we have maxed out our request, and this is only about half the data we will be working with.  So, come back tomorrow where I will finish out the last batch of requests then we can start working on processing and formatting the data in a manner suitable for our Machine Learning project."
   ]
  },
  {
   "cell_type": "code",
   "execution_count": 5,
   "metadata": {
    "collapsed": true
   },
   "outputs": [],
   "source": [
    "records = extract_weather_data(BASE_URL, API_KEY, target_date, 500)"
   ]
  },
  {
   "cell_type": "markdown",
   "metadata": {},
   "source": [
    "### Finishing up the Data Retrieval"
   ]
  },
  {
   "cell_type": "markdown",
   "metadata": {},
   "source": [
    "Ok, now that it is a new day we have a clean slate and up to 500 requests that can be made to the Weather Underground history API.  Our batch of 500 requests issued yesterday began on January 1st 2015 and ended on May 15th 2016 (assuming you didn't have any failed requests).  Once again let us kick off another batch of 500 requests but, don't go leaving me for the day this time because once this last chunk of data is collected we are going to begin formatting it into a Pandas DataFrame and derive potentially useful features."
   ]
  },
  {
   "cell_type": "code",
   "execution_count": 12,
   "metadata": {},
   "outputs": [],
   "source": [
    "# if you closed our terminal or Jupyter Notebook reinitialize your imports and\n",
    "# variables first and remember to set your target_date to datetime(2016, 5, 16)\n",
    "records += extract_weather_data(BASE_URL, API_KEY, target_date, 500)"
   ]
  },
  {
   "cell_type": "markdown",
   "metadata": {
    "collapsed": true
   },
   "source": [
    "### Setting Up our Pandas DataFrame\n",
    "\n",
    "Now that I have a nice and sizable records list of DailySummary named tuples I will use it to build out a Pandas DataFrame.  The Pandas DataFrame is a very useful data structure for many programming tasks which are most popularly known for cleaning and processing data to be used in machine learning projects (or experiments). \n",
    "\n",
    "I will utilize the `Pandas.DataFrame(...)` class constructor to instantiate a DataFrame object.  The parameters passed to the constructor are records which represent the data for the DataFrame, the features list I also used to define the DailySummary namedtuples which will specify the columns of the DataFrame.  The set_index() method is chained to the DataFrame instantiation to specify date as the index."
   ]
  },
  {
   "cell_type": "code",
   "execution_count": 21,
   "metadata": {
    "collapsed": true
   },
   "outputs": [],
   "source": [
    "df = pd.DataFrame(records, columns=features).set_index('date')"
   ]
  },
  {
   "cell_type": "markdown",
   "metadata": {},
   "source": [
    "### Deriving the Features"
   ]
  },
  {
   "cell_type": "markdown",
   "metadata": {},
   "source": [
    "Machine learning projects, also referred to as experiments, often have a few characteristics that are a bit oxymoronic. By this I mean that it is quite helpful to have subject matter knowledge in the area under investigation to aid in selecting meaningful features to investigate paired with a thoughtful assumption of likely patterns in data. However, I have also seen highly influential explanatory variables and pattern arise out of having almost a naive or at least very open and minimal presuppositions about the data. Having the knowledge based intuition to know where to look for potentially useful features and patterns as well as the ability to look for unforeseen idiosyncrasies in an unbiased manner is an extremely important part of a successful analytics project.\n",
    "\n",
    "In this regard, we have selected quite a few features while parsing the returned daily summary data to be used in our study. However, I fully expect that many of these will prove to be either uninformative in predicting weather temperatures or inappropriate candidates depending on the type of model being used but, the crux is that you simply do not know until rigorously investigate the data.\n",
    "\n",
    "Now I can't say that I have significant knowledge of meteorology or weather prediction models but, I did do a minimal search of prior work on using Machine Learning to predict weather temperatures. As it turns out there are quite a few research articles on the topic and in 2016 Holmstrom, Liu, and Vo describe using Linear Regression to do just that. In their article, Machine Learning Applied to Weather Forecasting, they used weather data on the prior two days for the following measurements."
   ]
  },
  {
   "cell_type": "markdown",
   "metadata": {},
   "source": [
    "*  max temperature\n",
    "*  min temperature\n",
    "*  mean humidity\n",
    "*  mean atmospheric pressure"
   ]
  },
  {
   "cell_type": "markdown",
   "metadata": {},
   "source": [
    "I will be expanding upon their list of features using the ones listed below and, instead of only using the prior two days I will be going back three days.\n",
    "\n",
    "*  mean temperature\n",
    "*  mean dewpoint\n",
    "*  mean pressure\n",
    "*  max humidity\n",
    "*  min humidity\n",
    "*  max dewpoint\n",
    "*  min dewpoint\n",
    "*  max pressure\n",
    "*  min pressure\n",
    "*  precipitation"
   ]
  },
  {
   "cell_type": "markdown",
   "metadata": {},
   "source": [
    "So next up is to figure out a way to include these new features as columns in our DataFrame.  To do so I will make a smaller subset of the current DataFrame to make it easier to work with while developing an algorithm to create these features.  I will make a `tmp` DataFrame consisting of just 10 records and the featuers meantempm and meandewptm."
   ]
  },
  {
   "cell_type": "code",
   "execution_count": 93,
   "metadata": {},
   "outputs": [
    {
     "data": {
      "text/html": [
       "<div>\n",
       "<table border=\"1\" class=\"dataframe\">\n",
       "  <thead>\n",
       "    <tr style=\"text-align: right;\">\n",
       "      <th></th>\n",
       "      <th>meantempm</th>\n",
       "      <th>meandewptm</th>\n",
       "    </tr>\n",
       "    <tr>\n",
       "      <th>date</th>\n",
       "      <th></th>\n",
       "      <th></th>\n",
       "    </tr>\n",
       "  </thead>\n",
       "  <tbody>\n",
       "    <tr>\n",
       "      <th>2015-01-01</th>\n",
       "      <td>-6</td>\n",
       "      <td>-12</td>\n",
       "    </tr>\n",
       "    <tr>\n",
       "      <th>2015-01-02</th>\n",
       "      <td>-6</td>\n",
       "      <td>-9</td>\n",
       "    </tr>\n",
       "    <tr>\n",
       "      <th>2015-01-03</th>\n",
       "      <td>-4</td>\n",
       "      <td>-11</td>\n",
       "    </tr>\n",
       "    <tr>\n",
       "      <th>2015-01-04</th>\n",
       "      <td>-14</td>\n",
       "      <td>-19</td>\n",
       "    </tr>\n",
       "    <tr>\n",
       "      <th>2015-01-05</th>\n",
       "      <td>-9</td>\n",
       "      <td>-14</td>\n",
       "    </tr>\n",
       "    <tr>\n",
       "      <th>2015-01-06</th>\n",
       "      <td>-10</td>\n",
       "      <td>-15</td>\n",
       "    </tr>\n",
       "    <tr>\n",
       "      <th>2015-01-07</th>\n",
       "      <td>-16</td>\n",
       "      <td>-22</td>\n",
       "    </tr>\n",
       "    <tr>\n",
       "      <th>2015-01-08</th>\n",
       "      <td>-7</td>\n",
       "      <td>-12</td>\n",
       "    </tr>\n",
       "    <tr>\n",
       "      <th>2015-01-09</th>\n",
       "      <td>-11</td>\n",
       "      <td>-19</td>\n",
       "    </tr>\n",
       "    <tr>\n",
       "      <th>2015-01-10</th>\n",
       "      <td>-6</td>\n",
       "      <td>-12</td>\n",
       "    </tr>\n",
       "  </tbody>\n",
       "</table>\n",
       "</div>"
      ],
      "text/plain": [
       "           meantempm meandewptm\n",
       "date                           \n",
       "2015-01-01        -6        -12\n",
       "2015-01-02        -6         -9\n",
       "2015-01-03        -4        -11\n",
       "2015-01-04       -14        -19\n",
       "2015-01-05        -9        -14\n",
       "2015-01-06       -10        -15\n",
       "2015-01-07       -16        -22\n",
       "2015-01-08        -7        -12\n",
       "2015-01-09       -11        -19\n",
       "2015-01-10        -6        -12"
      ]
     },
     "execution_count": 93,
     "metadata": {},
     "output_type": "execute_result"
    }
   ],
   "source": [
    "tmp = df[['meantempm', 'meandewptm']].head(10)\n",
    "tmp"
   ]
  },
  {
   "cell_type": "markdown",
   "metadata": {},
   "source": [
    "Let us break down what we hope to accomplish then translate that into code. For each day (row) and for a given feature (column) I would like to find the value for that feature N days prior. For each value of N (1-3 in our case) I want to make a new column for that feature representing the Nth prior day’s measurement."
   ]
  },
  {
   "cell_type": "code",
   "execution_count": 94,
   "metadata": {},
   "outputs": [
    {
     "data": {
      "text/html": [
       "<div>\n",
       "<table border=\"1\" class=\"dataframe\">\n",
       "  <thead>\n",
       "    <tr style=\"text-align: right;\">\n",
       "      <th></th>\n",
       "      <th>meantempm</th>\n",
       "      <th>meandewptm</th>\n",
       "      <th>meantempm_1</th>\n",
       "    </tr>\n",
       "    <tr>\n",
       "      <th>date</th>\n",
       "      <th></th>\n",
       "      <th></th>\n",
       "      <th></th>\n",
       "    </tr>\n",
       "  </thead>\n",
       "  <tbody>\n",
       "    <tr>\n",
       "      <th>2015-01-01</th>\n",
       "      <td>-6</td>\n",
       "      <td>-12</td>\n",
       "      <td>None</td>\n",
       "    </tr>\n",
       "    <tr>\n",
       "      <th>2015-01-02</th>\n",
       "      <td>-6</td>\n",
       "      <td>-9</td>\n",
       "      <td>-6</td>\n",
       "    </tr>\n",
       "    <tr>\n",
       "      <th>2015-01-03</th>\n",
       "      <td>-4</td>\n",
       "      <td>-11</td>\n",
       "      <td>-6</td>\n",
       "    </tr>\n",
       "    <tr>\n",
       "      <th>2015-01-04</th>\n",
       "      <td>-14</td>\n",
       "      <td>-19</td>\n",
       "      <td>-4</td>\n",
       "    </tr>\n",
       "    <tr>\n",
       "      <th>2015-01-05</th>\n",
       "      <td>-9</td>\n",
       "      <td>-14</td>\n",
       "      <td>-14</td>\n",
       "    </tr>\n",
       "    <tr>\n",
       "      <th>2015-01-06</th>\n",
       "      <td>-10</td>\n",
       "      <td>-15</td>\n",
       "      <td>-9</td>\n",
       "    </tr>\n",
       "    <tr>\n",
       "      <th>2015-01-07</th>\n",
       "      <td>-16</td>\n",
       "      <td>-22</td>\n",
       "      <td>-10</td>\n",
       "    </tr>\n",
       "    <tr>\n",
       "      <th>2015-01-08</th>\n",
       "      <td>-7</td>\n",
       "      <td>-12</td>\n",
       "      <td>-16</td>\n",
       "    </tr>\n",
       "    <tr>\n",
       "      <th>2015-01-09</th>\n",
       "      <td>-11</td>\n",
       "      <td>-19</td>\n",
       "      <td>-7</td>\n",
       "    </tr>\n",
       "    <tr>\n",
       "      <th>2015-01-10</th>\n",
       "      <td>-6</td>\n",
       "      <td>-12</td>\n",
       "      <td>-11</td>\n",
       "    </tr>\n",
       "  </tbody>\n",
       "</table>\n",
       "</div>"
      ],
      "text/plain": [
       "           meantempm meandewptm meantempm_1\n",
       "date                                       \n",
       "2015-01-01        -6        -12        None\n",
       "2015-01-02        -6         -9          -6\n",
       "2015-01-03        -4        -11          -6\n",
       "2015-01-04       -14        -19          -4\n",
       "2015-01-05        -9        -14         -14\n",
       "2015-01-06       -10        -15          -9\n",
       "2015-01-07       -16        -22         -10\n",
       "2015-01-08        -7        -12         -16\n",
       "2015-01-09       -11        -19          -7\n",
       "2015-01-10        -6        -12         -11"
      ]
     },
     "execution_count": 94,
     "metadata": {},
     "output_type": "execute_result"
    }
   ],
   "source": [
    "# 1 day prior\n",
    "N = 1\n",
    "\n",
    "# target measurement of mean temperature\n",
    "feature = 'meantempm'\n",
    "\n",
    "# total number of rows\n",
    "rows = tmp.shape[0]\n",
    "\n",
    "# a list representing Nth prior measurements of feature\n",
    "# notice that the front of the list needs to be padded with N\n",
    "# None values to maintain the constistent rows length for each N\n",
    "nth_prior_measurements = [None]*N + [tmp[feature][i-N] for i in range(N, rows)]\n",
    "\n",
    "# make a new column name of feature_N and add to DataFrame\n",
    "col_name = \"{}_{}\".format(feature, N)\n",
    "tmp[col_name] = nth_prior_measurements\n",
    "tmp"
   ]
  },
  {
   "cell_type": "markdown",
   "metadata": {},
   "source": [
    "Ok so it appears we have the basic steps required to make our new features.  Now I will wrap these steps up into a reusable function and put it to work building out all the desired features.  "
   ]
  },
  {
   "cell_type": "code",
   "execution_count": 6,
   "metadata": {},
   "outputs": [],
   "source": [
    "def derive_nth_day_feature(df, feature, N):\n",
    "    rows = df.shape[0]\n",
    "    nth_prior_meassurements = [None]*N + [df[feature][i-N] for i in range(N, rows)]\n",
    "    col_name = \"{}_{}\".format(feature, N)\n",
    "    df[col_name] = nth_prior_meassurements"
   ]
  },
  {
   "cell_type": "markdown",
   "metadata": {},
   "source": [
    "Now I will write a loop to loop over the features in the feature list defined earlier and for each feature that is not date and for N days 1 through 3 call our function to add the derived features we want to evaluate for predicting temperatures."
   ]
  },
  {
   "cell_type": "code",
   "execution_count": 7,
   "metadata": {},
   "outputs": [],
   "source": [
    "for feature in features:\n",
    "    if feature != 'date':\n",
    "        for N in range(1, 4):\n",
    "            derive_nth_day_feature(df, feature, N)"
   ]
  },
  {
   "cell_type": "markdown",
   "metadata": {},
   "source": [
    "And for good measure I will take a look at the columns to make sure that they look as expected."
   ]
  },
  {
   "cell_type": "code",
   "execution_count": 8,
   "metadata": {},
   "outputs": [
    {
     "data": {
      "text/plain": [
       "Index(['meantempm', 'meandewptm', 'meanpressurem', 'maxhumidity',\n",
       "       'minhumidity', 'maxtempm', 'mintempm', 'maxdewptm', 'mindewptm',\n",
       "       'maxpressurem', 'minpressurem', 'precipm', 'meantempm_1', 'meantempm_2',\n",
       "       'meantempm_3', 'meandewptm_1', 'meandewptm_2', 'meandewptm_3',\n",
       "       'meanpressurem_1', 'meanpressurem_2', 'meanpressurem_3',\n",
       "       'maxhumidity_1', 'maxhumidity_2', 'maxhumidity_3', 'minhumidity_1',\n",
       "       'minhumidity_2', 'minhumidity_3', 'maxtempm_1', 'maxtempm_2',\n",
       "       'maxtempm_3', 'mintempm_1', 'mintempm_2', 'mintempm_3', 'maxdewptm_1',\n",
       "       'maxdewptm_2', 'maxdewptm_3', 'mindewptm_1', 'mindewptm_2',\n",
       "       'mindewptm_3', 'maxpressurem_1', 'maxpressurem_2', 'maxpressurem_3',\n",
       "       'minpressurem_1', 'minpressurem_2', 'minpressurem_3', 'precipm_1',\n",
       "       'precipm_2', 'precipm_3'],\n",
       "      dtype='object')"
      ]
     },
     "execution_count": 8,
     "metadata": {},
     "output_type": "execute_result"
    }
   ],
   "source": [
    "df.columns"
   ]
  },
  {
   "cell_type": "markdown",
   "metadata": {},
   "source": [
    "Excellent! Looks like we have what we need.  The next thing I want to do is assess the quality of the data and clean it up where necessary."
   ]
  },
  {
   "cell_type": "markdown",
   "metadata": {},
   "source": [
    "### The Most Important Part - Data Cleaning\n",
    "\n",
    "As the section title says, the most important part of an analytics project is to make sure you are using quality data. The proverbial saying, \"garbage in, garbage out\", is as appropriate as ever when it comes to machine learning. However, the data cleaning part of an analytics project is not just one of the most important parts it is also the most time consuming and laborious. To ensure the quality of the data for this project, in this section I will be looking to identify unnecessary data, missing values, consistency of data types, and outliers then making some decisions about how to handle them if they arise.\n",
    "\n",
    "The first thing I want to do is drop any the columns of the DataFrame that I am not interested in to reduce the amount of data I am working with. The goal of the project is to predict the future temperature based off the past three days of weather measurements. With this in mind we only want to keep the min, max and mean temperatures for each day plus all the new derived variables we added in the last sections."
   ]
  },
  {
   "cell_type": "code",
   "execution_count": 9,
   "metadata": {},
   "outputs": [
    {
     "data": {
      "text/plain": [
       "Index(['meantempm', 'maxtempm', 'mintempm', 'meantempm_1', 'meantempm_2',\n",
       "       'meantempm_3', 'meandewptm_1', 'meandewptm_2', 'meandewptm_3',\n",
       "       'meanpressurem_1', 'meanpressurem_2', 'meanpressurem_3',\n",
       "       'maxhumidity_1', 'maxhumidity_2', 'maxhumidity_3', 'minhumidity_1',\n",
       "       'minhumidity_2', 'minhumidity_3', 'maxtempm_1', 'maxtempm_2',\n",
       "       'maxtempm_3', 'mintempm_1', 'mintempm_2', 'mintempm_3', 'maxdewptm_1',\n",
       "       'maxdewptm_2', 'maxdewptm_3', 'mindewptm_1', 'mindewptm_2',\n",
       "       'mindewptm_3', 'maxpressurem_1', 'maxpressurem_2', 'maxpressurem_3',\n",
       "       'minpressurem_1', 'minpressurem_2', 'minpressurem_3', 'precipm_1',\n",
       "       'precipm_2', 'precipm_3'],\n",
       "      dtype='object')"
      ]
     },
     "execution_count": 9,
     "metadata": {},
     "output_type": "execute_result"
    }
   ],
   "source": [
    "# make list of original features without meantempm, mintempm, and maxtempm\n",
    "to_remove = [feature \n",
    "             for feature in features \n",
    "             if feature not in ['meantempm', 'mintempm', 'maxtempm']]\n",
    "\n",
    "# make a list of columns to keep\n",
    "to_keep = [col for col in df.columns if col not in to_remove]\n",
    "\n",
    "# select only the columns in to_keep and assign to df\n",
    "df = df[to_keep]\n",
    "df.columns"
   ]
  },
  {
   "cell_type": "markdown",
   "metadata": {},
   "source": [
    "The next thing I want to do is to make use of some built in Pandas functions to get a better understanding of the data and potentially identify some areas to focuss my energy on.  The first function is a DataFrame method called `info()` which, big surprise ..., provides information on the DataFrame.  Of interest is the data type column of the output."
   ]
  },
  {
   "cell_type": "code",
   "execution_count": 10,
   "metadata": {},
   "outputs": [
    {
     "name": "stdout",
     "output_type": "stream",
     "text": [
      "<class 'pandas.core.frame.DataFrame'>\n",
      "DatetimeIndex: 1000 entries, 2015-01-01 to 2017-09-27\n",
      "Data columns (total 39 columns):\n",
      "meantempm          1000 non-null object\n",
      "maxtempm           1000 non-null object\n",
      "mintempm           1000 non-null object\n",
      "meantempm_1        999 non-null object\n",
      "meantempm_2        998 non-null object\n",
      "meantempm_3        997 non-null object\n",
      "meandewptm_1       999 non-null object\n",
      "meandewptm_2       998 non-null object\n",
      "meandewptm_3       997 non-null object\n",
      "meanpressurem_1    999 non-null object\n",
      "meanpressurem_2    998 non-null object\n",
      "meanpressurem_3    997 non-null object\n",
      "maxhumidity_1      999 non-null object\n",
      "maxhumidity_2      998 non-null object\n",
      "maxhumidity_3      997 non-null object\n",
      "minhumidity_1      999 non-null object\n",
      "minhumidity_2      998 non-null object\n",
      "minhumidity_3      997 non-null object\n",
      "maxtempm_1         999 non-null object\n",
      "maxtempm_2         998 non-null object\n",
      "maxtempm_3         997 non-null object\n",
      "mintempm_1         999 non-null object\n",
      "mintempm_2         998 non-null object\n",
      "mintempm_3         997 non-null object\n",
      "maxdewptm_1        999 non-null object\n",
      "maxdewptm_2        998 non-null object\n",
      "maxdewptm_3        997 non-null object\n",
      "mindewptm_1        999 non-null object\n",
      "mindewptm_2        998 non-null object\n",
      "mindewptm_3        997 non-null object\n",
      "maxpressurem_1     999 non-null object\n",
      "maxpressurem_2     998 non-null object\n",
      "maxpressurem_3     997 non-null object\n",
      "minpressurem_1     999 non-null object\n",
      "minpressurem_2     998 non-null object\n",
      "minpressurem_3     997 non-null object\n",
      "precipm_1          999 non-null object\n",
      "precipm_2          998 non-null object\n",
      "precipm_3          997 non-null object\n",
      "dtypes: object(39)\n",
      "memory usage: 312.5+ KB\n"
     ]
    }
   ],
   "source": [
    "df.info()"
   ]
  },
  {
   "cell_type": "markdown",
   "metadata": {},
   "source": [
    "Notice that the data type of every column is of type object.  We need to convert all of these feature columns to floats for the type of numerical analysis that we hope to perform.  To do this I will use the `apply()` DataFrame method to apply the Pandas to_numeric method to all values of the DataFrame.  The error='coerce' parameter will fill any textual values to Nans.  It is common to find textual values in data from the wild which usually originate from the data collector where data is missing or invalid. "
   ]
  },
  {
   "cell_type": "code",
   "execution_count": 15,
   "metadata": {},
   "outputs": [
    {
     "name": "stdout",
     "output_type": "stream",
     "text": [
      "<class 'pandas.core.frame.DataFrame'>\n",
      "DatetimeIndex: 1000 entries, 2015-01-01 to 2017-09-27\n",
      "Data columns (total 39 columns):\n",
      "meantempm          1000 non-null int64\n",
      "maxtempm           1000 non-null int64\n",
      "mintempm           1000 non-null int64\n",
      "meantempm_1        999 non-null float64\n",
      "meantempm_2        998 non-null float64\n",
      "meantempm_3        997 non-null float64\n",
      "meandewptm_1       999 non-null float64\n",
      "meandewptm_2       998 non-null float64\n",
      "meandewptm_3       997 non-null float64\n",
      "meanpressurem_1    999 non-null float64\n",
      "meanpressurem_2    998 non-null float64\n",
      "meanpressurem_3    997 non-null float64\n",
      "maxhumidity_1      999 non-null float64\n",
      "maxhumidity_2      998 non-null float64\n",
      "maxhumidity_3      997 non-null float64\n",
      "minhumidity_1      999 non-null float64\n",
      "minhumidity_2      998 non-null float64\n",
      "minhumidity_3      997 non-null float64\n",
      "maxtempm_1         999 non-null float64\n",
      "maxtempm_2         998 non-null float64\n",
      "maxtempm_3         997 non-null float64\n",
      "mintempm_1         999 non-null float64\n",
      "mintempm_2         998 non-null float64\n",
      "mintempm_3         997 non-null float64\n",
      "maxdewptm_1        999 non-null float64\n",
      "maxdewptm_2        998 non-null float64\n",
      "maxdewptm_3        997 non-null float64\n",
      "mindewptm_1        999 non-null float64\n",
      "mindewptm_2        998 non-null float64\n",
      "mindewptm_3        997 non-null float64\n",
      "maxpressurem_1     999 non-null float64\n",
      "maxpressurem_2     998 non-null float64\n",
      "maxpressurem_3     997 non-null float64\n",
      "minpressurem_1     999 non-null float64\n",
      "minpressurem_2     998 non-null float64\n",
      "minpressurem_3     997 non-null float64\n",
      "precipm_1          889 non-null float64\n",
      "precipm_2          889 non-null float64\n",
      "precipm_3          888 non-null float64\n",
      "dtypes: float64(36), int64(3)\n",
      "memory usage: 312.5 KB\n"
     ]
    }
   ],
   "source": [
    "df = df.apply(pd.to_numeric, errors='coerce')\n",
    "df.info()"
   ]
  },
  {
   "cell_type": "markdown",
   "metadata": {},
   "source": [
    "Now that all of our data has the data type I want I would like to take a look at some summary stats of the features and use the statistical rule of thumb to check for the existence of extreme outliers.  The DataFrame method `describe()` will produce a DataFrame containing the count, mean, standard deviation, min, 25th percentile, 50% percentile (or median), the 75th percentile and, the max value.  This can be very useful information to evaluating the distribution of the feature data.\n",
    "\n",
    "I would like to add to this information by calculating another output column indicating the existence of outliers.  The rule of thumb to identifying an extreme outlier is a value that less than 3 interquartile ranges below the 25th percentile or 3 interquartile ranges above the 75th percentile.  Interquartile range is simply the difference between the 75th percentile and the 25th percentile."
   ]
  },
  {
   "cell_type": "code",
   "execution_count": 20,
   "metadata": {},
   "outputs": [
    {
     "data": {
      "text/html": [
       "<div>\n",
       "<table border=\"1\" class=\"dataframe\">\n",
       "  <thead>\n",
       "    <tr style=\"text-align: right;\">\n",
       "      <th></th>\n",
       "      <th>count</th>\n",
       "      <th>mean</th>\n",
       "      <th>std</th>\n",
       "      <th>min</th>\n",
       "      <th>25%</th>\n",
       "      <th>50%</th>\n",
       "      <th>75%</th>\n",
       "      <th>max</th>\n",
       "      <th>outliers</th>\n",
       "    </tr>\n",
       "  </thead>\n",
       "  <tbody>\n",
       "    <tr>\n",
       "      <th>maxhumidity_1</th>\n",
       "      <td>997.0</td>\n",
       "      <td>88.107322</td>\n",
       "      <td>9.280627</td>\n",
       "      <td>47.0</td>\n",
       "      <td>83.0</td>\n",
       "      <td>90.0</td>\n",
       "      <td>93.00</td>\n",
       "      <td>100.00</td>\n",
       "      <td>True</td>\n",
       "    </tr>\n",
       "    <tr>\n",
       "      <th>maxhumidity_2</th>\n",
       "      <td>997.0</td>\n",
       "      <td>88.106319</td>\n",
       "      <td>9.280152</td>\n",
       "      <td>47.0</td>\n",
       "      <td>83.0</td>\n",
       "      <td>90.0</td>\n",
       "      <td>93.00</td>\n",
       "      <td>100.00</td>\n",
       "      <td>True</td>\n",
       "    </tr>\n",
       "    <tr>\n",
       "      <th>maxhumidity_3</th>\n",
       "      <td>997.0</td>\n",
       "      <td>88.093280</td>\n",
       "      <td>9.276775</td>\n",
       "      <td>47.0</td>\n",
       "      <td>83.0</td>\n",
       "      <td>90.0</td>\n",
       "      <td>93.00</td>\n",
       "      <td>100.00</td>\n",
       "      <td>True</td>\n",
       "    </tr>\n",
       "    <tr>\n",
       "      <th>maxpressurem_1</th>\n",
       "      <td>997.0</td>\n",
       "      <td>1019.913741</td>\n",
       "      <td>7.755590</td>\n",
       "      <td>993.0</td>\n",
       "      <td>1015.0</td>\n",
       "      <td>1019.0</td>\n",
       "      <td>1024.00</td>\n",
       "      <td>1055.00</td>\n",
       "      <td>True</td>\n",
       "    </tr>\n",
       "    <tr>\n",
       "      <th>maxpressurem_2</th>\n",
       "      <td>997.0</td>\n",
       "      <td>1019.917753</td>\n",
       "      <td>7.757705</td>\n",
       "      <td>993.0</td>\n",
       "      <td>1015.0</td>\n",
       "      <td>1019.0</td>\n",
       "      <td>1024.00</td>\n",
       "      <td>1055.00</td>\n",
       "      <td>True</td>\n",
       "    </tr>\n",
       "    <tr>\n",
       "      <th>maxpressurem_3</th>\n",
       "      <td>997.0</td>\n",
       "      <td>1019.927783</td>\n",
       "      <td>7.757805</td>\n",
       "      <td>993.0</td>\n",
       "      <td>1015.0</td>\n",
       "      <td>1019.0</td>\n",
       "      <td>1024.00</td>\n",
       "      <td>1055.00</td>\n",
       "      <td>True</td>\n",
       "    </tr>\n",
       "    <tr>\n",
       "      <th>minpressurem_1</th>\n",
       "      <td>997.0</td>\n",
       "      <td>1012.317954</td>\n",
       "      <td>7.885743</td>\n",
       "      <td>956.0</td>\n",
       "      <td>1008.0</td>\n",
       "      <td>1012.0</td>\n",
       "      <td>1017.00</td>\n",
       "      <td>1035.00</td>\n",
       "      <td>True</td>\n",
       "    </tr>\n",
       "    <tr>\n",
       "      <th>minpressurem_2</th>\n",
       "      <td>997.0</td>\n",
       "      <td>1012.319960</td>\n",
       "      <td>7.886681</td>\n",
       "      <td>956.0</td>\n",
       "      <td>1008.0</td>\n",
       "      <td>1012.0</td>\n",
       "      <td>1017.00</td>\n",
       "      <td>1035.00</td>\n",
       "      <td>True</td>\n",
       "    </tr>\n",
       "    <tr>\n",
       "      <th>minpressurem_3</th>\n",
       "      <td>997.0</td>\n",
       "      <td>1012.326981</td>\n",
       "      <td>7.889511</td>\n",
       "      <td>956.0</td>\n",
       "      <td>1008.0</td>\n",
       "      <td>1012.0</td>\n",
       "      <td>1017.00</td>\n",
       "      <td>1035.00</td>\n",
       "      <td>True</td>\n",
       "    </tr>\n",
       "    <tr>\n",
       "      <th>precipm_1</th>\n",
       "      <td>997.0</td>\n",
       "      <td>2.593180</td>\n",
       "      <td>8.428058</td>\n",
       "      <td>0.0</td>\n",
       "      <td>0.0</td>\n",
       "      <td>0.0</td>\n",
       "      <td>0.25</td>\n",
       "      <td>95.76</td>\n",
       "      <td>True</td>\n",
       "    </tr>\n",
       "    <tr>\n",
       "      <th>precipm_2</th>\n",
       "      <td>997.0</td>\n",
       "      <td>2.593180</td>\n",
       "      <td>8.428058</td>\n",
       "      <td>0.0</td>\n",
       "      <td>0.0</td>\n",
       "      <td>0.0</td>\n",
       "      <td>0.25</td>\n",
       "      <td>95.76</td>\n",
       "      <td>True</td>\n",
       "    </tr>\n",
       "    <tr>\n",
       "      <th>precipm_3</th>\n",
       "      <td>997.0</td>\n",
       "      <td>2.573049</td>\n",
       "      <td>8.410223</td>\n",
       "      <td>0.0</td>\n",
       "      <td>0.0</td>\n",
       "      <td>0.0</td>\n",
       "      <td>0.25</td>\n",
       "      <td>95.76</td>\n",
       "      <td>True</td>\n",
       "    </tr>\n",
       "  </tbody>\n",
       "</table>\n",
       "</div>"
      ],
      "text/plain": [
       "                count         mean       std    min     25%     50%      75%  \\\n",
       "maxhumidity_1   997.0    88.107322  9.280627   47.0    83.0    90.0    93.00   \n",
       "maxhumidity_2   997.0    88.106319  9.280152   47.0    83.0    90.0    93.00   \n",
       "maxhumidity_3   997.0    88.093280  9.276775   47.0    83.0    90.0    93.00   \n",
       "maxpressurem_1  997.0  1019.913741  7.755590  993.0  1015.0  1019.0  1024.00   \n",
       "maxpressurem_2  997.0  1019.917753  7.757705  993.0  1015.0  1019.0  1024.00   \n",
       "maxpressurem_3  997.0  1019.927783  7.757805  993.0  1015.0  1019.0  1024.00   \n",
       "minpressurem_1  997.0  1012.317954  7.885743  956.0  1008.0  1012.0  1017.00   \n",
       "minpressurem_2  997.0  1012.319960  7.886681  956.0  1008.0  1012.0  1017.00   \n",
       "minpressurem_3  997.0  1012.326981  7.889511  956.0  1008.0  1012.0  1017.00   \n",
       "precipm_1       997.0     2.593180  8.428058    0.0     0.0     0.0     0.25   \n",
       "precipm_2       997.0     2.593180  8.428058    0.0     0.0     0.0     0.25   \n",
       "precipm_3       997.0     2.573049  8.410223    0.0     0.0     0.0     0.25   \n",
       "\n",
       "                    max outliers  \n",
       "maxhumidity_1    100.00     True  \n",
       "maxhumidity_2    100.00     True  \n",
       "maxhumidity_3    100.00     True  \n",
       "maxpressurem_1  1055.00     True  \n",
       "maxpressurem_2  1055.00     True  \n",
       "maxpressurem_3  1055.00     True  \n",
       "minpressurem_1  1035.00     True  \n",
       "minpressurem_2  1035.00     True  \n",
       "minpressurem_3  1035.00     True  \n",
       "precipm_1         95.76     True  \n",
       "precipm_2         95.76     True  \n",
       "precipm_3         95.76     True  "
      ]
     },
     "execution_count": 20,
     "metadata": {},
     "output_type": "execute_result"
    }
   ],
   "source": [
    "# Call describe on df and transpose it due to the large number of columns\n",
    "spread = df.describe().T\n",
    "\n",
    "# precalculate interquartile range for ease of use in next calculation\n",
    "IQR = spread['75%'] - spread['25%']\n",
    "\n",
    "# create an outliers column which is either 3 IQRs below the first quartile or\n",
    "# 3 IQRs above the third quartile\n",
    "spread['outliers'] = (spread['min']<(spread['25%']-(3*IQR)))|(spread['max'] > (spread['75%']+3*IQR))\n",
    "\n",
    "# just display the features containing extreme outliers\n",
    "spread.ix[spread.outliers,]"
   ]
  },
  {
   "cell_type": "markdown",
   "metadata": {},
   "source": [
    "Assessing the potential impact of outliers is a difficult part of any analytics project. On the one hand, you need to be concerned about the potential for introducing spurious data artifacts that will significantly impact or bias your models. On the other hand, outliers can be extremely meaningful in predicting outcomes that arise under special circumstances. We will discuss each of these outliers containing features and see if we can come to a reasonable conclusion as to how to treat them.\n",
    "\n",
    "The first set of features all appear to be related to max humidity. Looking at the data I can tell that the outlier for this feature category is due to the apparently very low min value. This indeed looks to be a pretty low value and I think I would like to take a closer look at it, preferably in a graphical way. To do this I will use a histogram."
   ]
  },
  {
   "cell_type": "code",
   "execution_count": 30,
   "metadata": {},
   "outputs": [
    {
     "data": {
      "image/png": "[encoded data removed]",
      "text/plain": [
       "<matplotlib.figure.Figure at 0x10bdee5f8>"
      ]
     },
     "metadata": {},
     "output_type": "display_data"
    }
   ],
   "source": [
    "%matplotlib inline\n",
    "plt.rcParams['figure.figsize'] = [14, 8]\n",
    "df.maxhumidity_1.hist()\n",
    "plt.title('Distribution of maxhumidity_1')\n",
    "plt.xlabel('maxhumidity_1')\n",
    "plt.show()"
   ]
  },
  {
   "cell_type": "markdown",
   "metadata": {},
   "source": [
    "Looking at the histogram of the values for maxhumidity the data exhibits quite a bit of negative skew. I will want to keep this in mind when selecting prediction models and evaluating the strength of maxhumidities impact. Many of the underlying statistical methods assume that the data is normally distributed. For now I think I will leave them alone but it will be good to keep this in mind and have a certain amount of skepticism of it.\n",
    "\n",
    "Next I will look at the minimum pressure feature distribution."
   ]
  },
  {
   "cell_type": "code",
   "execution_count": 31,
   "metadata": {},
   "outputs": [
    {
     "data": {
      "image/png": "[encoded data removed]",
      "text/plain": [
       "<matplotlib.figure.Figure at 0x10d04b668>"
      ]
     },
     "metadata": {},
     "output_type": "display_data"
    }
   ],
   "source": [
    "df.minpressurem_1.hist()\n",
    "plt.title('Distribution of minpressurem_1')\n",
    "plt.xlabel('minpressurem_1')\n",
    "plt.show()"
   ]
  },
  {
   "cell_type": "markdown",
   "metadata": {},
   "source": [
    "This plot exhibits another interesting feature. From this plot, the data is multimodal which leads me to believe that there are two very different sets of environmental circumstances apparent in this data. I am hesitant to remove these values since I know that the temperature swings in this area of the country can be quite extreme especially between seasons of the year. I am worried that removing these low values might have some explanatory usefulness but, once again I will be skeptical about it at the same time.\n",
    "\n",
    "The final category of features containing outliers, precipitation, are quite a bit easier to understand. Since the dry days (ie, no precipitation) are much much more frequent it is sensible to see outliers here. To me this is no reason to remove these features. "
   ]
  },
  {
   "cell_type": "markdown",
   "metadata": {},
   "source": [
    "The last data quality issue to address is that of missing values. Due to the way in which I have built out the DataFrame the missing values are represented by Nans. You will probably remember that I have intentionally introduced missing values for the first three days of the data collected by deriving features representing the prior three days of measurements. It is not until the third day in that we can start deriving those features so, clearly, I will want to exclude those first three days from the data set.\n",
    "\n",
    "Look again at the output from the last time I issued the info method. There is a column of output that listed the non-null values for each feature column. Looking at this information you can see that for the most part the features contain relatively few missing (null / nan) values, mostly just the ones I introduced. However, the precipitation columns appear to be missing a significant part of their data. Missing data poses a problem because most machine learning methods require complete data sets devoid of any missing data. Aside from the issue that many of the machine learning methods require complete data, if I were to remove all the rows just because the precipitation feature contains missing data then I would be throwing out many other useful feature measurements.\n",
    "\n",
    "As I see it I have a couple of options to deal with this issue of missing data: (1) I can simply remove the rows that contain the missing values but, as I mentioned earlier throwing out that much data removes a lot of value from the data, or (2) I can fill the missing values with an interpolated value that is a reasonable estimation of the true values. Since I would rather preserve as much of the data as I can where there is minimal risk of introducing erroneous values I am going to fill the precipitation missing values with the most common value of zero. I feel this is a reasonable decision because the great majority of values in the precipitation measurements are zero."
   ]
  },
  {
   "cell_type": "code",
   "execution_count": 17,
   "metadata": {},
   "outputs": [
    {
     "name": "stderr",
     "output_type": "stream",
     "text": [
      "/Users/adammcquistan/miniconda3/envs/alex-backend/lib/python3.5/site-packages/ipykernel_launcher.py:5: SettingWithCopyWarning: \n",
      "A value is trying to be set on a copy of a slice from a DataFrame\n",
      "\n",
      "See the caveats in the documentation: http://pandas.pydata.org/pandas-docs/stable/indexing.html#indexing-view-versus-copy\n",
      "  \"\"\"\n"
     ]
    }
   ],
   "source": [
    "# iterate over the precip columns\n",
    "for precip_col in ['precipm_1', 'precipm_2', 'precipm_3']:\n",
    "    # create a boolean array of values representing nans\n",
    "    missing_vals = pd.isnull(df[precip_col])\n",
    "    df[precip_col][missing_vals] = 0"
   ]
  },
  {
   "cell_type": "markdown",
   "metadata": {
    "collapsed": true
   },
   "source": [
    "Now that I have filled all the missing values that I can while being cautious not to negatively impact the quality I would be comfortable simply removing the remaining records containing missing values from the data set.  To drop rows from the DataFrame containing Nans is quite easy.  All I have to do is call the method `dropna()` and Pandas will do all the work for me."
   ]
  },
  {
   "cell_type": "code",
   "execution_count": 18,
   "metadata": {},
   "outputs": [],
   "source": [
    "df = df.dropna()"
   ]
  },
  {
   "cell_type": "markdown",
   "metadata": {},
   "source": [
    "### Conclusion\n",
    "\n",
    "In this article, I have described the process of collecting, cleaning, and processing a reasonably good sized data set to be used for upcoming articles on a machine learning project to predict future weather temperatures.  While this is probably going to be the driest of the articles detaining this machine learning project I have tried to emphasize the importance of collecting quality data suitable for a valuable machine learning experiment.  \n",
    "\n",
    "Thanks for reading and I hope you look forward to the upcoming articles on this project."
   ]
  },
  {
   "cell_type": "code",
   "execution_count": 21,
   "metadata": {},
   "outputs": [
    {
     "name": "stdout",
     "output_type": "stream",
     "text": [
      "<class 'pandas.core.frame.DataFrame'>\n",
      "DatetimeIndex: 997 entries, 2015-01-04 to 2017-09-27\n",
      "Data columns (total 39 columns):\n",
      "meantempm          997 non-null int64\n",
      "maxtempm           997 non-null int64\n",
      "mintempm           997 non-null int64\n",
      "meantempm_1        997 non-null float64\n",
      "meantempm_2        997 non-null float64\n",
      "meantempm_3        997 non-null float64\n",
      "meandewptm_1       997 non-null float64\n",
      "meandewptm_2       997 non-null float64\n",
      "meandewptm_3       997 non-null float64\n",
      "meanpressurem_1    997 non-null float64\n",
      "meanpressurem_2    997 non-null float64\n",
      "meanpressurem_3    997 non-null float64\n",
      "maxhumidity_1      997 non-null float64\n",
      "maxhumidity_2      997 non-null float64\n",
      "maxhumidity_3      997 non-null float64\n",
      "minhumidity_1      997 non-null float64\n",
      "minhumidity_2      997 non-null float64\n",
      "minhumidity_3      997 non-null float64\n",
      "maxtempm_1         997 non-null float64\n",
      "maxtempm_2         997 non-null float64\n",
      "maxtempm_3         997 non-null float64\n",
      "mintempm_1         997 non-null float64\n",
      "mintempm_2         997 non-null float64\n",
      "mintempm_3         997 non-null float64\n",
      "maxdewptm_1        997 non-null float64\n",
      "maxdewptm_2        997 non-null float64\n",
      "maxdewptm_3        997 non-null float64\n",
      "mindewptm_1        997 non-null float64\n",
      "mindewptm_2        997 non-null float64\n",
      "mindewptm_3        997 non-null float64\n",
      "maxpressurem_1     997 non-null float64\n",
      "maxpressurem_2     997 non-null float64\n",
      "maxpressurem_3     997 non-null float64\n",
      "minpressurem_1     997 non-null float64\n",
      "minpressurem_2     997 non-null float64\n",
      "minpressurem_3     997 non-null float64\n",
      "precipm_1          997 non-null float64\n",
      "precipm_2          997 non-null float64\n",
      "precipm_3          997 non-null float64\n",
      "dtypes: float64(36), int64(3)\n",
      "memory usage: 311.6 KB\n"
     ]
    }
   ],
   "source": [
    "df.info()"
   ]
  },
  {
   "cell_type": "code",
   "execution_count": 23,
   "metadata": {},
   "outputs": [],
   "source": [
    "import pickle\n",
    "with open('end-part1_df.pkl', 'wb') as fp:\n",
    "    pickle.dump(df, fp)"
   ]
  },
  {
   "cell_type": "code",
   "execution_count": null,
   "metadata": {},
   "outputs": [],
   "source": []
  }
 ],
 "metadata": {
  "kernelspec": {
   "display_name": "Python 3",
   "language": "python",
   "name": "python3"
  },
  "language_info": {
   "codemirror_mode": {
    "name": "ipython",
    "version": 3
   },
   "file_extension": ".py",
   "mimetype": "text/x-python",
   "name": "python",
   "nbconvert_exporter": "python",
   "pygments_lexer": "ipython3",
   "version": "3.5.2"
  }
 },
 "nbformat": 4,
 "nbformat_minor": 2
}
